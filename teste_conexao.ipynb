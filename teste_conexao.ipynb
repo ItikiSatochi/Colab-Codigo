{
 "cells": [
  {
   "cell_type": "code",
   "execution_count": 4,
   "metadata": {},
   "outputs": [],
   "source": [
    "import pyodbc"
   ]
  },
  {
   "cell_type": "code",
   "execution_count": 13,
   "metadata": {},
   "outputs": [
    {
     "name": "stdout",
     "output_type": "stream",
     "text": [
      "<pyodbc.Connection object at 0x000001C24C76FDF0>\n"
     ]
    }
   ],
   "source": [
    "conn = pyodbc.connect(\n",
    "    \"Driver={ODBC Driver 18 for SQL Server};\"\n",
    "    \"Server=DESKTOP-0BOH544;\"\n",
    "    \"Database=PythonSQL;\"\n",
    "    \"Trusted_Connection=yes;\"\n",
    "    \"TrustServerCertificate=yes;\"\n",
    ")\n",
    "\n",
    "print(conn)\n",
    "# conexao = pyodbc.connect(dados_conexao)\n",
    "# print(\"Conexão Bem sucedida\")\n",
    "\n",
    "\n",
    "cursor = conn.cursor()"
   ]
  },
  {
   "cell_type": "code",
   "execution_count": 15,
   "metadata": {},
   "outputs": [],
   "source": [
    "query = \"SELECT * FROM Venda\"\n",
    "result = cursor.execute(query).fetchall()\n"
   ]
  },
  {
   "cell_type": "code",
   "execution_count": 16,
   "metadata": {},
   "outputs": [
    {
     "data": {
      "text/plain": [
       "[(1, datetime.date(2022, 4, 22), 'ANA', 'CELULAR', Decimal('2000.00'), 1)]"
      ]
     },
     "execution_count": 16,
     "metadata": {},
     "output_type": "execute_result"
    }
   ],
   "source": [
    "result\n",
    "save"
   ]
  }
 ],
 "metadata": {
  "kernelspec": {
   "display_name": "Python 3",
   "language": "python",
   "name": "python3"
  },
  "language_info": {
   "codemirror_mode": {
    "name": "ipython",
    "version": 3
   },
   "file_extension": ".py",
   "mimetype": "text/x-python",
   "name": "python",
   "nbconvert_exporter": "python",
   "pygments_lexer": "ipython3",
   "version": "3.11.9"
  }
 },
 "nbformat": 4,
 "nbformat_minor": 2
}
