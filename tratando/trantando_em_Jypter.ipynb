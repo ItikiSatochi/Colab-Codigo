{
 "cells": [
  {
   "cell_type": "code",
   "execution_count": 25,
   "metadata": {},
   "outputs": [
    {
     "name": "stdout",
     "output_type": "stream",
     "text": [
      "<pyodbc.Connection object at 0x00000184B4891FE0>\n"
     ]
    }
   ],
   "source": [
    "import pyodbc\n",
    "conn = pyodbc.connect(\n",
    "    \"Driver={ODBC Driver 18 for SQL Server};\"\n",
    "    \"Server=DESKTOP-0BOH544;\"\n",
    "    \"Database=Biblioteca;\"\n",
    "    \"Trusted_Connection=yes;\"\n",
    "    \"TrustServerCertificate=yes;\"\n",
    ")\n",
    "\n",
    "print(conn)"
   ]
  },
  {
   "cell_type": "code",
   "execution_count": 33,
   "metadata": {},
   "outputs": [],
   "source": [
    "cursor = conn.cursor()\n",
    "\n",
    "result = cursor.execute('SELECT LIVRO_ID FROM Livros').fetchall()\n"
   ]
  },
  {
   "cell_type": "code",
   "execution_count": 47,
   "metadata": {},
   "outputs": [
    {
     "name": "stdout",
     "output_type": "stream",
     "text": [
      "     teste\n",
      "0      [1]\n",
      "1      [2]\n",
      "2      [3]\n",
      "3      [4]\n",
      "4      [5]\n",
      "..     ...\n",
      "495  [496]\n",
      "496  [497]\n",
      "497  [498]\n",
      "498  [499]\n",
      "499  [500]\n",
      "\n",
      "[500 rows x 1 columns]\n"
     ]
    }
   ],
   "source": [
    "import pandas as pd\n",
    "result\n",
    "test = pd.DataFrame(result)\n",
    "test.columns=['teste']\n",
    "print(test)\n"
   ]
  }
 ],
 "metadata": {
  "kernelspec": {
   "display_name": "Python 3",
   "language": "python",
   "name": "python3"
  },
  "language_info": {
   "codemirror_mode": {
    "name": "ipython",
    "version": 3
   },
   "file_extension": ".py",
   "mimetype": "text/x-python",
   "name": "python",
   "nbconvert_exporter": "python",
   "pygments_lexer": "ipython3",
   "version": "3.11.9"
  }
 },
 "nbformat": 4,
 "nbformat_minor": 2
}
